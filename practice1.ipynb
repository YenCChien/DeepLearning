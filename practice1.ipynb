{
 "cells": [
  {
   "cell_type": "code",
   "execution_count": 7,
   "metadata": {
    "collapsed": true
   },
   "outputs": [],
   "source": [
    "import tensorflow as tf\n",
    "import numpy as np\n",
    "import matplotlib.pyplot as plt\n",
    "%matplotlib inline"
   ]
  },
  {
   "cell_type": "code",
   "execution_count": 8,
   "metadata": {},
   "outputs": [
    {
     "name": "stdout",
     "output_type": "stream",
     "text": [
      "[ 0.966896    0.71383411  0.18703343  0.6451292   0.67940527  0.1687827\n",
      "  0.79933244  0.64330447  0.11279581  0.49716839  0.81178713  0.47468147\n",
      "  0.55809325  0.17348097  0.80648941  0.99308366  0.20213844  0.93647295\n",
      "  0.51185668  0.24820873  0.81442744  0.12978162  0.30501816  0.34783721\n",
      "  0.17836116  0.50677562  0.16154066  0.16145997  0.02383217  0.31489399\n",
      "  0.1745398   0.62409174  0.28503045  0.3094019   0.46957019  0.34553182\n",
      "  0.43082106  0.97273475  0.64824396  0.42423484  0.7600072   0.37756154\n",
      "  0.89934844  0.88274705  0.62428391  0.14028142  0.72140777  0.07441232\n",
      "  0.45030928  0.78385651  0.72999573  0.1852549   0.78564757  0.99844712\n",
      "  0.27945176  0.23321997  0.0256225   0.78123891  0.90979278  0.35493532\n",
      "  0.3844932   0.11746208  0.70383924  0.86848181  0.9671793   0.07241753\n",
      "  0.84533817  0.62400442  0.28889579  0.9756695   0.3161397   0.80777276\n",
      "  0.8333016   0.61219484  0.2955642   0.11750157  0.88051456  0.3907088\n",
      "  0.07254921  0.17363358  0.26376167  0.83551317  0.43269849  0.59242588\n",
      "  0.61324227  0.93252981  0.21967573  0.95724422  0.3952387   0.55301076\n",
      "  0.38551119  0.46744591  0.99822605  0.54495865  0.34153697  0.20867795\n",
      "  0.82709706  0.97027123  0.55851495  0.89634019]\n"
     ]
    }
   ],
   "source": [
    "x_data = np.random.rand(100).astype(np.float32)\n",
    "print(x_data)"
   ]
  },
  {
   "cell_type": "code",
   "execution_count": 9,
   "metadata": {
    "scrolled": true
   },
   "outputs": [
    {
     "name": "stdout",
     "output_type": "stream",
     "text": [
      "[ 0.39668962  0.37138343  0.31870335  0.36451292  0.36794055  0.31687829\n",
      "  0.37993327  0.36433047  0.31127959  0.34971684  0.38117874  0.34746817\n",
      "  0.35580933  0.31734812  0.38064897  0.39930838  0.32021385  0.39364731\n",
      "  0.35118568  0.32482088  0.38144276  0.31297818  0.33050182  0.33478373\n",
      "  0.31783614  0.35067758  0.31615406  0.31614602  0.30238324  0.33148941\n",
      "  0.31745398  0.36240917  0.32850307  0.33094019  0.34695703  0.33455318\n",
      "  0.34308213  0.39727348  0.36482441  0.3424235   0.37600073  0.33775616\n",
      "  0.38993487  0.38827473  0.3624284   0.31402814  0.37214079  0.30744123\n",
      "  0.34503093  0.37838566  0.37299958  0.31852549  0.37856477  0.39984474\n",
      "  0.32794517  0.323322    0.30256227  0.37812391  0.39097929  0.33549353\n",
      "  0.33844933  0.31174621  0.37038395  0.38684821  0.39671794  0.30724177\n",
      "  0.38453382  0.36240044  0.32888958  0.39756697  0.33161399  0.3807773\n",
      "  0.38333017  0.3612195   0.32955644  0.31175017  0.38805148  0.33907089\n",
      "  0.30725494  0.31736338  0.32637617  0.38355133  0.34326985  0.35924259\n",
      "  0.36132425  0.393253    0.32196757  0.39572445  0.33952388  0.35530108\n",
      "  0.33855113  0.3467446   0.39982262  0.35449588  0.33415371  0.32086781\n",
      "  0.38270971  0.39702713  0.3558515   0.38963404]\n"
     ]
    }
   ],
   "source": [
    "y_data = x_data*0.1+0.3\n",
    "print(y_data)"
   ]
  },
  {
   "cell_type": "code",
   "execution_count": 10,
   "metadata": {},
   "outputs": [
    {
     "data": {
      "text/plain": [
       "<matplotlib.collections.PathCollection at 0xa1a1da0>"
      ]
     },
     "execution_count": 10,
     "metadata": {},
     "output_type": "execute_result"
    },
    {
     "data": {
      "image/png": "[encoded data removed]",
      "text/plain": [
       "<matplotlib.figure.Figure at 0x9c2f6a0>"
      ]
     },
     "metadata": {},
     "output_type": "display_data"
    }
   ],
   "source": [
    "plt.scatter(x_data,y_data)"
   ]
  },
  {
   "cell_type": "code",
   "execution_count": 11,
   "metadata": {},
   "outputs": [
    {
     "name": "stdout",
     "output_type": "stream",
     "text": [
      "Tensor(\"add:0\", shape=(100,), dtype=float32)\n"
     ]
    }
   ],
   "source": [
    "weights = tf.Variable(tf.random_uniform([1],-1.0,-1.0))\n",
    "biases = tf.Variable(tf.zeros([1]))\n",
    "y = weights * x_data + biases\n",
    "print(y)"
   ]
  },
  {
   "cell_type": "code",
   "execution_count": 12,
   "metadata": {
    "collapsed": true
   },
   "outputs": [],
   "source": [
    "loss = tf.reduce_mean(tf.square(y-y_data))"
   ]
  },
  {
   "cell_type": "code",
   "execution_count": 13,
   "metadata": {
    "collapsed": true
   },
   "outputs": [],
   "source": [
    "optimizer = tf.train.GradientDescentOptimizer(0.5)\n",
    "train = optimizer.minimize(loss)"
   ]
  },
  {
   "cell_type": "code",
   "execution_count": 14,
   "metadata": {
    "collapsed": true
   },
   "outputs": [],
   "source": [
    "init = tf.global_variables_initializer()"
   ]
  },
  {
   "cell_type": "code",
   "execution_count": 28,
   "metadata": {},
   "outputs": [
    {
     "name": "stdout",
     "output_type": "stream",
     "text": [
      "0 [-0.45142043] [ 0.87307262]\n",
      "10 [-0.23555912] [ 0.48717704]\n",
      "20 [-0.06948478] [ 0.39453912]\n",
      "30 [ 0.01439645] [ 0.34774992]\n",
      "40 [ 0.05676327] [ 0.3241176]\n",
      "50 [ 0.07816195] [ 0.31218135]\n",
      "60 [ 0.08897001] [ 0.30615258]\n",
      "70 [ 0.09442896] [ 0.30310756]\n",
      "80 [ 0.09718616] [ 0.30156958]\n",
      "90 [ 0.09857879] [ 0.30079275]\n",
      "100 [ 0.09928218] [ 0.30040041]\n",
      "110 [ 0.09963746] [ 0.30020225]\n",
      "120 [ 0.0998169] [ 0.30010214]\n",
      "130 [ 0.09990753] [ 0.3000516]\n",
      "140 [ 0.0999533] [ 0.30002606]\n",
      "150 [ 0.09997642] [ 0.30001315]\n",
      "160 [ 0.09998808] [ 0.30000666]\n",
      "170 [ 0.09999397] [ 0.30000338]\n",
      "180 [ 0.09999696] [ 0.30000171]\n",
      "190 [ 0.09999847] [ 0.30000088]\n",
      "200 [ 0.09999922] [ 0.30000046]\n"
     ]
    },
    {
     "data": {
      "image/png": "[encoded data removed]",
      "text/plain": [
       "<matplotlib.figure.Figure at 0xab9c908>"
      ]
     },
     "metadata": {},
     "output_type": "display_data"
    }
   ],
   "source": [
    "sess = tf.Session()\n",
    "sess.run(init)          # Very important\n",
    "plt.scatter(x_data,y_data)\n",
    "\n",
    "for step in range(201):\n",
    "    np.linspace(0, 201)\n",
    "    sess.run(train)\n",
    "    if step % 10 == 0:\n",
    "        x = plt.plot(step,step*sess.run(weights)+sess.run(biases))\n",
    "        print(step, sess.run(weights), sess.run(biases))"
   ]
  },
  {
   "cell_type": "code",
   "execution_count": null,
   "metadata": {
    "collapsed": true
   },
   "outputs": [],
   "source": []
  }
 ],
 "metadata": {
  "kernelspec": {
   "display_name": "Python 3",
   "language": "python",
   "name": "python3"
  },
  "language_info": {
   "codemirror_mode": {
    "name": "ipython",
    "version": 3
   },
   "file_extension": ".py",
   "mimetype": "text/x-python",
   "name": "python",
   "nbconvert_exporter": "python",
   "pygments_lexer": "ipython3",
   "version": "3.5.2"
  }
 },
 "nbformat": 4,
 "nbformat_minor": 2
}
