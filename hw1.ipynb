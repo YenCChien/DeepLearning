{
 "cells": [
  {
   "cell_type": "code",
   "execution_count": 838,
   "metadata": {},
   "outputs": [],
   "source": [
    "import tensorflow as tf\n",
    "import numpy as np"
   ]
  },
  {
   "cell_type": "code",
   "execution_count": 870,
   "metadata": {},
   "outputs": [
    {
     "name": "stdout",
     "output_type": "stream",
     "text": [
      "[ 384.  366.  353.  338.  242.  129.   10.   25.   24.  161.  114.  333.\n",
      "  132.   60.   42.   91.  139.  330.  328.  176.   97.   74.  127.   78.\n",
      "  240.  276.  207.  176.  316.  305.  304.  242.  250.  226.  220.  185.\n",
      "   42.  344.  108.  169.   15.   25.  222.  251.  139.   45.  129.  200.\n",
      "  179.  104.  144.  157.  106.  203.   16.  240.   60.   80.   75.  136.\n",
      "  231.   43.  140.  208.  128.  186.  149.   10.   86.  619.  500.  606.\n",
      "  548.  528.  517.]\n",
      "[  694.   669.   659.   640.   457.   243.    15.    47.    47.   305.\n",
      "   213.   633.   247.   113.    79.   173.   265.   624.   619.   327.\n",
      "   181.   141.   241.   146.   448.   530.   393.   335.   594.   567.\n",
      "   579.   459.   471.   428.   418.   354.    80.   647.   205.   185.\n",
      "    16.    27.   245.   272.   151.    49.   140.   217.   193.   113.\n",
      "   157.   172.   115.   219.    18.   260.    66.    86.    81.   150.\n",
      "   248.    46.   151.   226.   137.   200.   161.    10.    92.  1646.\n",
      "  1253.  1591.  1362.  1059.  1340.]\n"
     ]
    }
   ],
   "source": [
    "all_x = genfromtxt(\"pokemon.csv\", dtype=float32, delimiter=',', usecols=(2,), unpack=True)[1:]\n",
    "all_y = genfromtxt(\"pokemon.csv\", dtype=float32, delimiter=',', usecols=(14,), unpack=True)[1:]\n",
    "print(all_x)\n",
    "print(all_y)"
   ]
  },
  {
   "cell_type": "code",
   "execution_count": 821,
   "metadata": {
    "collapsed": true
   },
   "outputs": [],
   "source": [
    "x_data = np.array([384,114,42,97,304,169,104,136,43,619]).astype(np.float32)\n",
    "y_data = np.array([694,213,79,181,579,185,113,150,46,1646]).astype(np.float32)"
   ]
  },
  {
   "cell_type": "code",
   "execution_count": 822,
   "metadata": {},
   "outputs": [
    {
     "data": {
      "text/plain": [
       "<matplotlib.collections.PathCollection at 0x13c3b860>"
      ]
     },
     "execution_count": 822,
     "metadata": {},
     "output_type": "execute_result"
    },
    {
     "data": {
      "image/png": "[encoded data removed]",
      "text/plain": [
       "<matplotlib.figure.Figure at 0x13bf15f8>"
      ]
     },
     "metadata": {},
     "output_type": "display_data"
    }
   ],
   "source": [
    "import matplotlib.pyplot as plt\n",
    "%matplotlib inline\n",
    "ax1 = plt.subplot()\n",
    "ax1.set_xlim([0, 700])\n",
    "ax1.set_ylim([0, 1700])\n",
    "plt.scatter(x_data,y_data)"
   ]
  },
  {
   "cell_type": "code",
   "execution_count": 823,
   "metadata": {
    "collapsed": true
   },
   "outputs": [],
   "source": [
    "def step_gradient(b_current, m_current, learningRate):\n",
    "    b_gradient = 0\n",
    "    m_gradient = 0\n",
    "    count = len(x_data)\n",
    "    for i in range(count):\n",
    "        b_gradient += -(2/count) * (y_data[i] - ((m_current * x_data[i]) + b_current))\n",
    "        m_gradient += -(2/count) * x_data[i] * (y_data[i] - ((m_current * x_data[i]) + b_current))\n",
    "    new_b = b_current - (learningRate * b_gradient)\n",
    "    new_m = m_current - (learningRate * m_gradient)\n",
    "    return [new_b, new_m]"
   ]
  },
  {
   "cell_type": "code",
   "execution_count": 824,
   "metadata": {
    "collapsed": true
   },
   "outputs": [],
   "source": [
    "def gradient_descent_runner(starting_b, starting_m, learning_rate, num_iterations):\n",
    "    b = starting_b\n",
    "    m = starting_m\n",
    "    for i in range(num_iterations):\n",
    "        b, m = step_gradient(b, m, learning_rate)\n",
    "    return [b, m]"
   ]
  },
  {
   "cell_type": "code",
   "execution_count": 831,
   "metadata": {
    "collapsed": true
   },
   "outputs": [],
   "source": [
    "def compute_error_for_line_given_points(x, y, b, m):\n",
    "    totalError = 0\n",
    "    count = len(x_data)\n",
    "    for i in range(count):\n",
    "        totalError += (y[i] - (m * x[i] + b))\n",
    "    return totalError / count"
   ]
  },
  {
   "cell_type": "code",
   "execution_count": 832,
   "metadata": {},
   "outputs": [
    {
     "name": "stdout",
     "output_type": "stream",
     "text": [
      "-1.39758735037 2.22760620573\n"
     ]
    }
   ],
   "source": [
    "learning_rate = 0.00001\n",
    "initial_b = 0 # initial y-intercept guess\n",
    "initial_m = 0 # initial slope guess\n",
    "num_iterations = 1200\n",
    "[b, m] = gradient_descent_runner(initial_b, initial_m, learning_rate, num_iterations)\n",
    "print(b,m)"
   ]
  },
  {
   "cell_type": "code",
   "execution_count": 833,
   "metadata": {},
   "outputs": [
    {
     "name": "stdout",
     "output_type": "stream",
     "text": [
      "-58.1967812429\n"
     ]
    }
   ],
   "source": [
    "print(compute_error_for_line_given_points(x_data,y_data,b,m))"
   ]
  },
  {
   "cell_type": "code",
   "execution_count": 834,
   "metadata": {},
   "outputs": [
    {
     "data": {
      "text/plain": [
       "<matplotlib.collections.PathCollection at 0x13d1d198>"
      ]
     },
     "execution_count": 834,
     "metadata": {},
     "output_type": "execute_result"
    },
    {
     "data": {
      "image/png": "[encoded data removed]",
      "text/plain": [
       "<matplotlib.figure.Figure at 0x13cbe550>"
      ]
     },
     "metadata": {},
     "output_type": "display_data"
    }
   ],
   "source": [
    "i = np.array([0,619])\n",
    "plt.plot(i,m*i+b)\n",
    "plt.scatter(x_data,y_data)"
   ]
  },
  {
   "cell_type": "code",
   "execution_count": 835,
   "metadata": {
    "collapsed": true
   },
   "outputs": [],
   "source": [
    "tx_data = np.array([366,10,330,207,129,106,75,208,149,606]).astype(np.float32)\n",
    "ty_data = np.array([669,15,624,393,140,115,81,226,161,1591]).astype(np.float32)"
   ]
  },
  {
   "cell_type": "code",
   "execution_count": 836,
   "metadata": {},
   "outputs": [
    {
     "name": "stdout",
     "output_type": "stream",
     "text": [
      "-84.0571292227\n"
     ]
    }
   ],
   "source": [
    "print(compute_error_for_line_given_points(tx_data,ty_data,b,m))"
   ]
  },
  {
   "cell_type": "code",
   "execution_count": null,
   "metadata": {
    "collapsed": true
   },
   "outputs": [],
   "source": []
  }
 ],
 "metadata": {
  "kernelspec": {
   "display_name": "Python 3",
   "language": "python",
   "name": "python3"
  },
  "language_info": {
   "codemirror_mode": {
    "name": "ipython",
    "version": 3
   },
   "file_extension": ".py",
   "mimetype": "text/x-python",
   "name": "python",
   "nbconvert_exporter": "python",
   "pygments_lexer": "ipython3",
   "version": "3.5.2"
  }
 },
 "nbformat": 4,
 "nbformat_minor": 2
}
