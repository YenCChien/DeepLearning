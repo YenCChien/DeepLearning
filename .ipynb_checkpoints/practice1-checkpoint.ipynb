{
 "cells": [
  {
   "cell_type": "code",
   "execution_count": 2,
   "metadata": {
    "collapsed": true
   },
   "outputs": [],
   "source": [
    "import tensorflow as tf\n",
    "import numpy as np"
   ]
  },
  {
   "cell_type": "code",
   "execution_count": 3,
   "metadata": {},
   "outputs": [
    {
     "name": "stdout",
     "output_type": "stream",
     "text": [
      "[ 0.37420544  0.26851538  0.45115128  0.53060657  0.56753272  0.62268353\n",
      "  0.37873456  0.66694969  0.62536913  0.60711193  0.73746747  0.32581332\n",
      "  0.52973789  0.40279296  0.89996392  0.6285134   0.39977676  0.79024267\n",
      "  0.99193162  0.51126909  0.60117286  0.80992746  0.35302141  0.84541559\n",
      "  0.04073656  0.33228955  0.21663064  0.28159451  0.90837604  0.27890202\n",
      "  0.09353039  0.52323508  0.9263283   0.240824    0.49582309  0.8551966\n",
      "  0.76275402  0.86014783  0.49602398  0.6565032   0.12234798  0.12733239\n",
      "  0.9682461   0.72318846  0.81376237  0.23658308  0.96102887  0.34872764\n",
      "  0.51422596  0.93843096  0.36402494  0.3659547   0.4443973   0.75251508\n",
      "  0.5563941   0.4285059   0.43143812  0.94531661  0.07879051  0.81516051\n",
      "  0.95144993  0.78068501  0.77651775  0.38646173  0.42047608  0.51126826\n",
      "  0.43104073  0.50772566  0.72279584  0.22663409  0.45231888  0.49810135\n",
      "  0.19083215  0.95902652  0.98567152  0.63125986  0.9699561   0.82607198\n",
      "  0.48173216  0.55676258  0.19867858  0.40540361  0.80454606  0.54474145\n",
      "  0.72913682  0.43091622  0.39991975  0.56248343  0.01640052  0.60273963\n",
      "  0.06549122  0.73842132  0.27556181  0.6038357   0.69382238  0.38237199\n",
      "  0.48553166  0.06319357  0.40016326  0.68643105]\n"
     ]
    }
   ],
   "source": [
    "x_data = np.random.rand(100).astype(np.float32)\n",
    "print(x_data)"
   ]
  },
  {
   "cell_type": "code",
   "execution_count": 4,
   "metadata": {},
   "outputs": [
    {
     "name": "stdout",
     "output_type": "stream",
     "text": [
      "[ 0.33742055  0.32685155  0.34511513  0.35306066  0.35675329  0.36226836\n",
      "  0.33787346  0.36669499  0.36253694  0.36071122  0.37374675  0.33258134\n",
      "  0.35297379  0.34027931  0.38999641  0.36285135  0.33997768  0.37902427\n",
      "  0.39919317  0.35112691  0.36011729  0.38099277  0.33530214  0.38454157\n",
      "  0.30407366  0.33322898  0.32166308  0.32815945  0.39083761  0.32789022\n",
      "  0.30935305  0.35232353  0.39263284  0.3240824   0.34958231  0.38551968\n",
      "  0.37627542  0.38601479  0.3496024   0.36565033  0.31223482  0.31273326\n",
      "  0.39682463  0.37231886  0.38137627  0.32365832  0.39610291  0.33487278\n",
      "  0.35142261  0.39384311  0.33640251  0.33659548  0.34443974  0.37525153\n",
      "  0.35563943  0.3428506   0.34314382  0.39453167  0.30787906  0.38151607\n",
      "  0.395145    0.37806851  0.37765178  0.33864617  0.34204763  0.35112685\n",
      "  0.34310409  0.35077259  0.37227958  0.32266343  0.34523189  0.34981015\n",
      "  0.31908321  0.39590266  0.39856717  0.36312601  0.39699563  0.38260722\n",
      "  0.34817323  0.35567626  0.31986788  0.34054038  0.38045463  0.35447416\n",
      "  0.37291369  0.34309164  0.33999199  0.35624835  0.30164006  0.36027399\n",
      "  0.30654913  0.37384215  0.32755619  0.36038357  0.36938226  0.33823723\n",
      "  0.34855318  0.30631936  0.34001634  0.36864311]\n"
     ]
    }
   ],
   "source": [
    "y_data = x_data*0.1+0.3\n",
    "print(y_data)"
   ]
  },
  {
   "cell_type": "code",
   "execution_count": 5,
   "metadata": {},
   "outputs": [
    {
     "name": "stdout",
     "output_type": "stream",
     "text": [
      "Tensor(\"add:0\", shape=(100,), dtype=float32)\n"
     ]
    }
   ],
   "source": [
    "weights = tf.Variable(tf.random_uniform([1],-1.0,-1.0))\n",
    "biases = tf.Variable(tf.zeros([1]))\n",
    "y = weights * x_data + biases\n",
    "print(y)"
   ]
  },
  {
   "cell_type": "code",
   "execution_count": 6,
   "metadata": {
    "collapsed": true
   },
   "outputs": [],
   "source": [
    "loss = tf.reduce_mean(tf.square(y-y_data))"
   ]
  },
  {
   "cell_type": "code",
   "execution_count": 7,
   "metadata": {
    "collapsed": true
   },
   "outputs": [],
   "source": [
    "optimizer = tf.train.GradientDescentOptimizer(0.5)\n",
    "train = optimizer.minimize(loss)"
   ]
  },
  {
   "cell_type": "code",
   "execution_count": 8,
   "metadata": {
    "collapsed": true
   },
   "outputs": [],
   "source": [
    "init = tf.global_variables_initializer()"
   ]
  },
  {
   "cell_type": "code",
   "execution_count": 10,
   "metadata": {},
   "outputs": [
    {
     "name": "stdout",
     "output_type": "stream",
     "text": [
      "Populating the interactive namespace from numpy and matplotlib\n"
     ]
    },
    {
     "name": "stderr",
     "output_type": "stream",
     "text": [
      "c:\\python35\\lib\\site-packages\\IPython\\core\\magics\\pylab.py:160: UserWarning: pylab import has clobbered these variables: ['step']\n",
      "`%matplotlib` prevents importing * from pylab and numpy\n",
      "  \"\\n`%matplotlib` prevents importing * from pylab and numpy\"\n"
     ]
    },
    {
     "name": "stdout",
     "output_type": "stream",
     "text": [
      "0 [-0.44377017] [ 0.89599931]\n",
      "10 [-0.30284393] [ 0.52955335]\n",
      "20 [-0.14335673] [ 0.43867108]\n",
      "30 [-0.04701063] [ 0.38377053]\n",
      "40 [ 0.01119157] [ 0.3506054]\n",
      "50 [ 0.04635125] [ 0.33057049]\n",
      "60 [ 0.06759103] [ 0.3184675]\n",
      "70 [ 0.08042189] [ 0.31115612]\n",
      "80 [ 0.08817297] [ 0.30673936]\n",
      "90 [ 0.09285535] [ 0.30407122]\n",
      "100 [ 0.09568395] [ 0.30245942]\n",
      "110 [ 0.09739267] [ 0.30148572]\n",
      "120 [ 0.09842492] [ 0.30089754]\n",
      "130 [ 0.09904851] [ 0.30054221]\n",
      "140 [ 0.09942521] [ 0.30032754]\n",
      "150 [ 0.09965278] [ 0.30019787]\n",
      "160 [ 0.09979025] [ 0.30011952]\n",
      "170 [ 0.09987329] [ 0.30007222]\n",
      "180 [ 0.09992343] [ 0.30004364]\n",
      "190 [ 0.09995375] [ 0.30002636]\n",
      "200 [ 0.09997208] [ 0.30001593]\n"
     ]
    },
    {
     "data": {
      "image/png": "[encoded data removed]",
      "text/plain": [
       "<matplotlib.figure.Figure at 0x9a61240>"
      ]
     },
     "metadata": {},
     "output_type": "display_data"
    }
   ],
   "source": [
    "import matplotlib.pyplot as plt\n",
    "%pylab inline\n",
    "sess = tf.Session()\n",
    "sess.run(init)          # Very important\n",
    "plt.scatter(0.1,0.3)\n",
    "\n",
    "for step in range(201):\n",
    "    sess.run(train)\n",
    "    if step % 10 == 0:\n",
    "        x = plt.scatter(sess.run(weights),sess.run(biases))\n",
    "        print(step, sess.run(weights), sess.run(biases))"
   ]
  },
  {
   "cell_type": "code",
   "execution_count": null,
   "metadata": {
    "collapsed": true
   },
   "outputs": [],
   "source": []
  }
 ],
 "metadata": {
  "kernelspec": {
   "display_name": "Python 3",
   "language": "python",
   "name": "python3"
  },
  "language_info": {
   "codemirror_mode": {
    "name": "ipython",
    "version": 3
   },
   "file_extension": ".py",
   "mimetype": "text/x-python",
   "name": "python",
   "nbconvert_exporter": "python",
   "pygments_lexer": "ipython3",
   "version": "3.5.2"
  }
 },
 "nbformat": 4,
 "nbformat_minor": 2
}
