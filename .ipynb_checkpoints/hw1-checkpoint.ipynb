{
 "cells": [
  {
   "cell_type": "code",
   "execution_count": 372,
   "metadata": {
    "collapsed": true
   },
   "outputs": [],
   "source": [
    "import tensorflow as tf\n",
    "import numpy as np"
   ]
  },
  {
   "cell_type": "code",
   "execution_count": 373,
   "metadata": {},
   "outputs": [
    {
     "name": "stdout",
     "output_type": "stream",
     "text": [
      "[ 384.  366.  353.  338.  242.  129.   10.   25.   24.  161.  114.  333.\n",
      "  132.   60.   42.   91.  139.  330.  328.  176.   97.   74.  127.   78.\n",
      "  240.  276.  207.  176.  316.  305.  304.  242.  250.  226.  220.  185.\n",
      "   42.  344.  108.  169.   15.   25.  222.  251.  139.   45.  129.  200.\n",
      "  179.  104.  144.  157.  106.  203.   16.  240.   60.   80.   75.  136.\n",
      "  231.   43.  140.  208.  128.  186.  149.   10.   86.  619.  500.  606.\n",
      "  548.  528.  517.]\n",
      "[  694.   669.   659.   640.   457.   243.    15.    47.    47.   305.\n",
      "   213.   633.   247.   113.    79.   173.   265.   624.   619.   327.\n",
      "   181.   141.   241.   146.   448.   530.   393.   335.   594.   567.\n",
      "   579.   459.   471.   428.   418.   354.    80.   647.   205.   185.\n",
      "    16.    27.   245.   272.   151.    49.   140.   217.   193.   113.\n",
      "   157.   172.   115.   219.    18.   260.    66.    86.    81.   150.\n",
      "   248.    46.   151.   226.   137.   200.   161.    10.    92.  1646.\n",
      "  1253.  1591.  1362.  1059.  1340.]\n"
     ]
    }
   ],
   "source": [
    "all_x = np.genfromtxt(\"pokemon.csv\", dtype=\"float32\", delimiter=',', usecols=(2,), unpack=True)[1:]\n",
    "all_y = np.genfromtxt(\"pokemon.csv\", dtype=\"float32\", delimiter=',', usecols=(14,), unpack=True)[1:]\n",
    "print(all_x)\n",
    "print(all_y)"
   ]
  },
  {
   "cell_type": "code",
   "execution_count": 374,
   "metadata": {
    "collapsed": true
   },
   "outputs": [],
   "source": [
    "x_data = np.array([384,114,42,97,304,169,104,136,43,619]).astype(np.float32)\n",
    "y_data = np.array([694,213,79,181,579,185,113,150,46,1646]).astype(np.float32)"
   ]
  },
  {
   "cell_type": "code",
   "execution_count": 375,
   "metadata": {
    "scrolled": true
   },
   "outputs": [
    {
     "data": {
      "text/plain": [
       "<matplotlib.collections.PathCollection at 0x11787748>"
      ]
     },
     "execution_count": 375,
     "metadata": {},
     "output_type": "execute_result"
    },
    {
     "data": {
      "image/png": "[encoded data removed]",
      "text/plain": [
       "<matplotlib.figure.Figure at 0x11738cc0>"
      ]
     },
     "metadata": {},
     "output_type": "display_data"
    }
   ],
   "source": [
    "import matplotlib.pyplot as plt\n",
    "%matplotlib inline\n",
    "ax1 = plt.subplot()\n",
    "ax1.set_xlim([0, 700])\n",
    "ax1.set_ylim([0, 1700])\n",
    "plt.scatter(x_data,y_data)"
   ]
  },
  {
   "cell_type": "code",
   "execution_count": 376,
   "metadata": {
    "collapsed": true
   },
   "outputs": [],
   "source": [
    "def step_gradient(b_current, m_current, learningRate):\n",
    "    b_gradient = 0\n",
    "    m_gradient = 0\n",
    "    count = len(x_data)\n",
    "    for i in range(count):\n",
    "        b_gradient += -(2/count) * (y_data[i] - ((m_current * x_data[i]) + b_current))\n",
    "        m_gradient += -(2/count) * x_data[i] * (y_data[i] - ((m_current * x_data[i]) + b_current))\n",
    "    new_b = b_current - (learningRate * b_gradient)\n",
    "    new_m = m_current - (learningRate * m_gradient)\n",
    "    return [new_b, new_m]"
   ]
  },
  {
   "cell_type": "code",
   "execution_count": 377,
   "metadata": {
    "collapsed": true
   },
   "outputs": [],
   "source": [
    "def gradient_descent_runner(starting_b, starting_m, learning_rate, num_iterations):\n",
    "    b = starting_b\n",
    "    m = starting_m\n",
    "    for i in range(num_iterations):\n",
    "        b, m = step_gradient(b, m, learning_rate)\n",
    "    return [b, m]"
   ]
  },
  {
   "cell_type": "code",
   "execution_count": 378,
   "metadata": {
    "collapsed": true
   },
   "outputs": [],
   "source": [
    "def compute_error_for_line_given_points(x, y, b, m):\n",
    "    totalError = 0\n",
    "    count = len(x_data)\n",
    "    for i in range(count):\n",
    "        totalError += (y[i] - (m * x[i] + b))\n",
    "    return totalError / count"
   ]
  },
  {
   "cell_type": "code",
   "execution_count": 379,
   "metadata": {},
   "outputs": [
    {
     "name": "stdout",
     "output_type": "stream",
     "text": [
      "-1.39758735037 2.22760620573\n"
     ]
    }
   ],
   "source": [
    "learning_rate = 0.00001\n",
    "initial_b = 0 # initial y-intercept guess\n",
    "initial_m = 0 # initial slope guess\n",
    "num_iterations = 1200\n",
    "[b, m] = gradient_descent_runner(initial_b, initial_m, learning_rate, num_iterations)\n",
    "print(b,m)"
   ]
  },
  {
   "cell_type": "code",
   "execution_count": 380,
   "metadata": {},
   "outputs": [
    {
     "name": "stdout",
     "output_type": "stream",
     "text": [
      "-58.1967812429\n"
     ]
    }
   ],
   "source": [
    "print(compute_error_for_line_given_points(x_data,y_data,b,m))"
   ]
  },
  {
   "cell_type": "code",
   "execution_count": 381,
   "metadata": {},
   "outputs": [
    {
     "data": {
      "text/plain": [
       "<matplotlib.collections.PathCollection at 0x127c6470>"
      ]
     },
     "execution_count": 381,
     "metadata": {},
     "output_type": "execute_result"
    },
    {
     "data": {
      "image/png": "[encoded data removed]",
      "text/plain": [
       "<matplotlib.figure.Figure at 0x116dab70>"
      ]
     },
     "metadata": {},
     "output_type": "display_data"
    }
   ],
   "source": [
    "i = np.linspace(0, 619)\n",
    "plt.plot(i,m*i+b)\n",
    "plt.scatter(x_data,y_data)"
   ]
  },
  {
   "cell_type": "code",
   "execution_count": 382,
   "metadata": {
    "collapsed": true
   },
   "outputs": [],
   "source": [
    "tx_data = np.array([366,10,330,207,129,106,75,208,149,606]).astype(np.float32)\n",
    "ty_data = np.array([669,15,624,393,140,115,81,226,161,1591]).astype(np.float32)"
   ]
  },
  {
   "cell_type": "code",
   "execution_count": 383,
   "metadata": {},
   "outputs": [
    {
     "name": "stdout",
     "output_type": "stream",
     "text": [
      "-84.0571292227\n"
     ]
    }
   ],
   "source": [
    "print(compute_error_for_line_given_points(tx_data,ty_data,b,m))"
   ]
  },
  {
   "cell_type": "code",
   "execution_count": 384,
   "metadata": {
    "collapsed": true
   },
   "outputs": [],
   "source": [
    "def step_gradient_quadratic(b_current, m1_current, m2_current, learningRate):\n",
    "    b_gradient = 0\n",
    "    m1_gradient = 0\n",
    "    m2_gradient = 0\n",
    "    count = len(x_data)\n",
    "    for i in range(count):\n",
    "        b_gradient += -(2/count) * (y_data[i] - ((m1_current * x_data[i]) + m2_current * (x_data[i])**2 + b_current))\n",
    "        m1_gradient += -(2/count) * x_data[i] * (y_data[i] - ((m1_current * x_data[i]) + m2_current * (x_data[i])**2 + b_current))\n",
    "        m2_gradient += -(2/count) * (x_data[i])**2 * (y_data[i] - ((m1_current * x_data[i]) + m2_current * (x_data[i])**2 + b_current))\n",
    "    new_b = b_current - (learningRate * b_gradient)\n",
    "    new_m1 = m1_current - (learningRate * m1_gradient)\n",
    "    new_m2 = m2_current - (learningRate * m2_gradient)\n",
    "    return [new_b, new_m1, new_m2]"
   ]
  },
  {
   "cell_type": "code",
   "execution_count": 385,
   "metadata": {
    "collapsed": true
   },
   "outputs": [],
   "source": [
    "def gradient_descent_runner_quadratic(starting_b, starting_m1, starting_m2, learning_rate, num_iterations):\n",
    "    b = starting_b\n",
    "    m1 = starting_m1\n",
    "    m2 = starting_m2\n",
    "    for i in range(num_iterations):\n",
    "        b, m1, m2 = step_gradient_quadratic(b, m1, m2, learning_rate)\n",
    "    return [b, m1, m2]"
   ]
  },
  {
   "cell_type": "code",
   "execution_count": 386,
   "metadata": {
    "collapsed": true
   },
   "outputs": [],
   "source": [
    "def compute_error_for_line_given_points_quadratic(x, y, b, m1, m2):\n",
    "    totalError = 0\n",
    "    count = len(x_data)\n",
    "    for i in range(count):\n",
    "        totalError += (y[i] - (m1 * x[i] + m2 * x[i]**2 + b))\n",
    "    return totalError / count"
   ]
  },
  {
   "cell_type": "code",
   "execution_count": 387,
   "metadata": {},
   "outputs": [
    {
     "name": "stdout",
     "output_type": "stream",
     "text": [
      "1.90079850928e-07 2.75749744657e-05 0.00448116419795\n"
     ]
    }
   ],
   "source": [
    "learning_rate = 10**-12\n",
    "initial_b = 0 # initial y-intercept guess\n",
    "initial_m1 = 0 # initial slope guess\n",
    "initial_m2 = 0 # initial slope guess\n",
    "num_iterations = 1200\n",
    "[b, m1, m2] = gradient_descent_runner_quadratic(initial_b, initial_m1, initial_m2, learning_rate, num_iterations)\n",
    "print(b,m1,m2)"
   ]
  },
  {
   "cell_type": "code",
   "execution_count": 388,
   "metadata": {},
   "outputs": [
    {
     "data": {
      "text/plain": [
       "<matplotlib.collections.PathCollection at 0x12839048>"
      ]
     },
     "execution_count": 388,
     "metadata": {},
     "output_type": "execute_result"
    },
    {
     "data": {
      "image/png": "[encoded data removed]",
      "text/plain": [
       "<matplotlib.figure.Figure at 0x127d7898>"
      ]
     },
     "metadata": {},
     "output_type": "display_data"
    }
   ],
   "source": [
    "i = np.linspace(0, 619)\n",
    "plt.plot(i, m1*i+m2*(i**2)+b)\n",
    "plt.scatter(x_data,y_data)"
   ]
  },
  {
   "cell_type": "code",
   "execution_count": 389,
   "metadata": {},
   "outputs": [
    {
     "name": "stdout",
     "output_type": "stream",
     "text": [
      "71.8101997778\n"
     ]
    }
   ],
   "source": [
    "print(compute_error_for_line_given_points_quadratic(x_data,y_data,b,m1,m2))"
   ]
  },
  {
   "cell_type": "code",
   "execution_count": 408,
   "metadata": {},
   "outputs": [
    {
     "name": "stdout",
     "output_type": "stream",
     "text": [
      "[  91.  139.  330.  328.  176.   97.   74.  127.   78.  240.  276.  207.\n",
      "  176.  316.  305.  304.  242.  250.  226.  220.  185.   42.  344.  108.\n",
      "  169.   15.   25.  222.  251.  139.   45.  129.  200.  179.  104.  144.\n",
      "  157.  106.  203.   16.  240.   60.   80.   75.  136.  231.   43.  140.\n",
      "  208.  128.  186.  149.   10.   86.  619.  500.  606.  548.  528.  517.]\n",
      "[  173.   265.   624.   619.   327.   181.   141.   241.   146.   448.\n",
      "   530.   393.   335.   594.   567.   579.   459.   471.   428.   418.\n",
      "   354.    80.   647.   205.   185.    16.    27.   245.   272.   151.\n",
      "    49.   140.   217.   193.   113.   157.   172.   115.   219.    18.\n",
      "   260.    66.    86.    81.   150.   248.    46.   151.   226.   137.\n",
      "   200.   161.    10.    92.  1646.  1253.  1591.  1362.  1059.  1340.]\n",
      "[b'Pidgey' b'Pidgey' b'Pidgey' b'Pidgey' b'Pidgey' b'Pidgey' b'Pidgey'\n",
      " b'Pidgey' b'Pidgey' b'Pidgey' b'Pidgey' b'Pidgey' b'Pidgey' b'Pidgey'\n",
      " b'Pidgey' b'Pidgey' b'Pidgey' b'Pidgey' b'Pidgey' b'Pidgey' b'Pidgey'\n",
      " b'Pidgey' b'Pidgey' b'Pidgey' b'Weedle' b'Weedle' b'Weedle' b'Weedle'\n",
      " b'Weedle' b'Weedle' b'Weedle' b'Weedle' b'Weedle' b'Weedle' b'Weedle'\n",
      " b'Weedle' b'Weedle' b'Weedle' b'Weedle' b'Weedle' b'Weedle' b'Weedle'\n",
      " b'Weedle' b'Weedle' b'Caterpie' b'Caterpie' b'Caterpie' b'Caterpie'\n",
      " b'Caterpie' b'Caterpie' b'Caterpie' b'Caterpie' b'Caterpie' b'Caterpie'\n",
      " b'Eevee' b'Eevee' b'Eevee' b'Eevee' b'Eevee' b'Eevee']\n"
     ]
    }
   ],
   "source": [
    "_x60 = np.genfromtxt(\"pokemon.csv\", dtype=\"float32\", delimiter=',', usecols=(2,), unpack=True)[16:]\n",
    "_y60 = np.genfromtxt(\"pokemon.csv\", dtype=\"float32\", delimiter=',', usecols=(14,), unpack=True)[16:]\n",
    "species60 = np.genfromtxt(\"pokemon.csv\", dtype=\"S\", delimiter=',', usecols=(1,), unpack=True)[16:]\n",
    "print(_x60)\n",
    "print(_y60)\n",
    "print(species60)"
   ]
  },
  {
   "cell_type": "code",
   "execution_count": 402,
   "metadata": {},
   "outputs": [
    {
     "data": {
      "text/plain": [
       "<matplotlib.collections.PathCollection at 0x12921b00>"
      ]
     },
     "execution_count": 402,
     "metadata": {},
     "output_type": "execute_result"
    },
    {
     "data": {
      "image/png": "[encoded data removed]",
      "text/plain": [
       "<matplotlib.figure.Figure at 0x12872a20>"
      ]
     },
     "metadata": {},
     "output_type": "display_data"
    }
   ],
   "source": [
    "plt.scatter(_x60,_y60)"
   ]
  },
  {
   "cell_type": "code",
   "execution_count": null,
   "metadata": {
    "collapsed": true
   },
   "outputs": [],
   "source": []
  }
 ],
 "metadata": {
  "kernelspec": {
   "display_name": "Python 3",
   "language": "python",
   "name": "python3"
  },
  "language_info": {
   "codemirror_mode": {
    "name": "ipython",
    "version": 3
   },
   "file_extension": ".py",
   "mimetype": "text/x-python",
   "name": "python",
   "nbconvert_exporter": "python",
   "pygments_lexer": "ipython3",
   "version": "3.5.2"
  }
 },
 "nbformat": 4,
 "nbformat_minor": 2
}
